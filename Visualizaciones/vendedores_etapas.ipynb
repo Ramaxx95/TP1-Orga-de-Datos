{
 "cells": [
  {
   "cell_type": "code",
   "execution_count": 1,
   "metadata": {},
   "outputs": [],
   "source": [
    "import pandas as pd\n",
    "import numpy as np\n",
    "import datetime as datetime\n",
    "import calendar\n",
    "import matplotlib.pyplot as plt\n",
    "import seaborn as sns"
   ]
  },
  {
   "cell_type": "code",
   "execution_count": 2,
   "metadata": {},
   "outputs": [],
   "source": [
    "df = pd.read_csv('C:/Users/ramil/Documents/UBA/(75.06) Organización de Datos/TPS/TP1/Entrenamieto_ECI_2020.csv')\n"
   ]
  },
  {
   "cell_type": "code",
   "execution_count": null,
   "metadata": {},
   "outputs": [],
   "source": [
    "\"Oportunidades que pasaron por más de una fase\""
   ]
  },
  {
   "cell_type": "code",
   "execution_count": 72,
   "metadata": {},
   "outputs": [
    {
     "data": {
      "text/html": [
       "<div>\n",
       "<style scoped>\n",
       "    .dataframe tbody tr th:only-of-type {\n",
       "        vertical-align: middle;\n",
       "    }\n",
       "\n",
       "    .dataframe tbody tr th {\n",
       "        vertical-align: top;\n",
       "    }\n",
       "\n",
       "    .dataframe thead th {\n",
       "        text-align: right;\n",
       "    }\n",
       "</style>\n",
       "<table border=\"1\" class=\"dataframe\">\n",
       "  <thead>\n",
       "    <tr style=\"text-align: right;\">\n",
       "      <th></th>\n",
       "      <th>Opportunity_ID</th>\n",
       "      <th>Account_Owner</th>\n",
       "      <th>Account_Created_Date</th>\n",
       "      <th>Stage</th>\n",
       "    </tr>\n",
       "  </thead>\n",
       "  <tbody>\n",
       "    <tr>\n",
       "      <th>0</th>\n",
       "      <td>0</td>\n",
       "      <td>Person_Name_51</td>\n",
       "      <td>6/16/2015</td>\n",
       "      <td>Closed Lost</td>\n",
       "    </tr>\n",
       "    <tr>\n",
       "      <th>1</th>\n",
       "      <td>1</td>\n",
       "      <td>Person_Name_51</td>\n",
       "      <td>6/16/2015</td>\n",
       "      <td>Closed Won</td>\n",
       "    </tr>\n",
       "    <tr>\n",
       "      <th>2</th>\n",
       "      <td>2</td>\n",
       "      <td>Person_Name_64</td>\n",
       "      <td>4/21/2015</td>\n",
       "      <td>Closed Won</td>\n",
       "    </tr>\n",
       "    <tr>\n",
       "      <th>3</th>\n",
       "      <td>3</td>\n",
       "      <td>Person_Name_8</td>\n",
       "      <td>7/27/2013</td>\n",
       "      <td>Closed Lost</td>\n",
       "    </tr>\n",
       "    <tr>\n",
       "      <th>4</th>\n",
       "      <td>4</td>\n",
       "      <td>Person_Name_8</td>\n",
       "      <td>7/27/2013</td>\n",
       "      <td>Closed Lost</td>\n",
       "    </tr>\n",
       "    <tr>\n",
       "      <th>...</th>\n",
       "      <td>...</td>\n",
       "      <td>...</td>\n",
       "      <td>...</td>\n",
       "      <td>...</td>\n",
       "    </tr>\n",
       "    <tr>\n",
       "      <th>16942</th>\n",
       "      <td>12801</td>\n",
       "      <td>Person_Name_13</td>\n",
       "      <td>1/15/2016</td>\n",
       "      <td>Closed Won</td>\n",
       "    </tr>\n",
       "    <tr>\n",
       "      <th>16943</th>\n",
       "      <td>12801</td>\n",
       "      <td>Person_Name_13</td>\n",
       "      <td>1/15/2016</td>\n",
       "      <td>Closed Won</td>\n",
       "    </tr>\n",
       "    <tr>\n",
       "      <th>16944</th>\n",
       "      <td>12801</td>\n",
       "      <td>Person_Name_13</td>\n",
       "      <td>1/15/2016</td>\n",
       "      <td>Closed Won</td>\n",
       "    </tr>\n",
       "    <tr>\n",
       "      <th>16945</th>\n",
       "      <td>12802</td>\n",
       "      <td>Person_Name_3</td>\n",
       "      <td>10/20/2015</td>\n",
       "      <td>Closed Lost</td>\n",
       "    </tr>\n",
       "    <tr>\n",
       "      <th>16946</th>\n",
       "      <td>12803</td>\n",
       "      <td>Person_Name_3</td>\n",
       "      <td>9/3/2015</td>\n",
       "      <td>Closed Lost</td>\n",
       "    </tr>\n",
       "  </tbody>\n",
       "</table>\n",
       "<p>16947 rows × 4 columns</p>\n",
       "</div>"
      ],
      "text/plain": [
       "       Opportunity_ID   Account_Owner Account_Created_Date        Stage\n",
       "0                   0  Person_Name_51            6/16/2015  Closed Lost\n",
       "1                   1  Person_Name_51            6/16/2015   Closed Won\n",
       "2                   2  Person_Name_64            4/21/2015   Closed Won\n",
       "3                   3   Person_Name_8            7/27/2013  Closed Lost\n",
       "4                   4   Person_Name_8            7/27/2013  Closed Lost\n",
       "...               ...             ...                  ...          ...\n",
       "16942           12801  Person_Name_13            1/15/2016   Closed Won\n",
       "16943           12801  Person_Name_13            1/15/2016   Closed Won\n",
       "16944           12801  Person_Name_13            1/15/2016   Closed Won\n",
       "16945           12802   Person_Name_3           10/20/2015  Closed Lost\n",
       "16946           12803   Person_Name_3             9/3/2015  Closed Lost\n",
       "\n",
       "[16947 rows x 4 columns]"
      ]
     },
     "execution_count": 72,
     "metadata": {},
     "output_type": "execute_result"
    }
   ],
   "source": [
    "stage = df[['Opportunity_ID', 'Account_Owner', 'Account_Created_Date', 'Stage']]\n",
    "stage"
   ]
  },
  {
   "cell_type": "code",
   "execution_count": 33,
   "metadata": {},
   "outputs": [],
   "source": [
    "etapas_por_oportunidad = stage[['Opportunity_ID', 'Stage']]\n",
    "etapas_por_oportunidad_ganadas = etapas_por_oportunidad.loc[etapas_por_oportunidad['Stage'] == 'Closed Won']"
   ]
  },
  {
   "cell_type": "code",
   "execution_count": 32,
   "metadata": {},
   "outputs": [],
   "source": [
    "etapas_por_oportunidad_perdidas = etapas_por_oportunidad.loc[etapas_por_oportunidad['Stage'] == 'Closed Lost']"
   ]
  },
  {
   "cell_type": "code",
   "execution_count": 31,
   "metadata": {},
   "outputs": [],
   "source": [
    "etapas_por_oportunidad_calificadas = etapas_por_oportunidad.loc[etapas_por_oportunidad['Stage'] == 'Qualification']"
   ]
  },
  {
   "cell_type": "code",
   "execution_count": 30,
   "metadata": {},
   "outputs": [],
   "source": [
    "etapas_por_oportunidad_propuestas = etapas_por_oportunidad.loc[etapas_por_oportunidad['Stage'] == 'Proposal']"
   ]
  },
  {
   "cell_type": "code",
   "execution_count": 29,
   "metadata": {},
   "outputs": [],
   "source": [
    "etapas_por_oportunidad_negociadas = etapas_por_oportunidad.loc[etapas_por_oportunidad['Stage'] == 'Negotiation']"
   ]
  },
  {
   "cell_type": "markdown",
   "metadata": {},
   "source": [
    "# Oportunidades que pasaron por una etapa y resultaron exitosas"
   ]
  },
  {
   "cell_type": "code",
   "execution_count": 34,
   "metadata": {},
   "outputs": [
    {
     "data": {
      "text/html": [
       "<div>\n",
       "<style scoped>\n",
       "    .dataframe tbody tr th:only-of-type {\n",
       "        vertical-align: middle;\n",
       "    }\n",
       "\n",
       "    .dataframe tbody tr th {\n",
       "        vertical-align: top;\n",
       "    }\n",
       "\n",
       "    .dataframe thead th {\n",
       "        text-align: right;\n",
       "    }\n",
       "</style>\n",
       "<table border=\"1\" class=\"dataframe\">\n",
       "  <thead>\n",
       "    <tr style=\"text-align: right;\">\n",
       "      <th></th>\n",
       "      <th>Opportunity_ID</th>\n",
       "      <th>Stage_x</th>\n",
       "      <th>Stage_y</th>\n",
       "    </tr>\n",
       "  </thead>\n",
       "  <tbody>\n",
       "  </tbody>\n",
       "</table>\n",
       "</div>"
      ],
      "text/plain": [
       "Empty DataFrame\n",
       "Columns: [Opportunity_ID, Stage_x, Stage_y]\n",
       "Index: []"
      ]
     },
     "execution_count": 34,
     "metadata": {},
     "output_type": "execute_result"
    }
   ],
   "source": [
    "etapas_calificadas_y_ganadas = etapas_por_oportunidad_ganadas.merge(etapas_por_oportunidad_calificadas, on = 'Opportunity_ID')\n",
    "etapas_calificadas_y_ganadas"
   ]
  },
  {
   "cell_type": "code",
   "execution_count": 35,
   "metadata": {},
   "outputs": [
    {
     "data": {
      "text/html": [
       "<div>\n",
       "<style scoped>\n",
       "    .dataframe tbody tr th:only-of-type {\n",
       "        vertical-align: middle;\n",
       "    }\n",
       "\n",
       "    .dataframe tbody tr th {\n",
       "        vertical-align: top;\n",
       "    }\n",
       "\n",
       "    .dataframe thead th {\n",
       "        text-align: right;\n",
       "    }\n",
       "</style>\n",
       "<table border=\"1\" class=\"dataframe\">\n",
       "  <thead>\n",
       "    <tr style=\"text-align: right;\">\n",
       "      <th></th>\n",
       "      <th>Opportunity_ID</th>\n",
       "      <th>Stage_x</th>\n",
       "      <th>Stage_y</th>\n",
       "    </tr>\n",
       "  </thead>\n",
       "  <tbody>\n",
       "  </tbody>\n",
       "</table>\n",
       "</div>"
      ],
      "text/plain": [
       "Empty DataFrame\n",
       "Columns: [Opportunity_ID, Stage_x, Stage_y]\n",
       "Index: []"
      ]
     },
     "execution_count": 35,
     "metadata": {},
     "output_type": "execute_result"
    }
   ],
   "source": [
    "etapas_propuestas_y_ganadas = etapas_por_oportunidad_ganadas.merge(etapas_por_oportunidad_propuestas, on = 'Opportunity_ID')\n",
    "etapas_propuestas_y_ganadas"
   ]
  },
  {
   "cell_type": "code",
   "execution_count": 36,
   "metadata": {},
   "outputs": [
    {
     "data": {
      "text/html": [
       "<div>\n",
       "<style scoped>\n",
       "    .dataframe tbody tr th:only-of-type {\n",
       "        vertical-align: middle;\n",
       "    }\n",
       "\n",
       "    .dataframe tbody tr th {\n",
       "        vertical-align: top;\n",
       "    }\n",
       "\n",
       "    .dataframe thead th {\n",
       "        text-align: right;\n",
       "    }\n",
       "</style>\n",
       "<table border=\"1\" class=\"dataframe\">\n",
       "  <thead>\n",
       "    <tr style=\"text-align: right;\">\n",
       "      <th></th>\n",
       "      <th>Opportunity_ID</th>\n",
       "      <th>Stage_x</th>\n",
       "      <th>Stage_y</th>\n",
       "    </tr>\n",
       "  </thead>\n",
       "  <tbody>\n",
       "  </tbody>\n",
       "</table>\n",
       "</div>"
      ],
      "text/plain": [
       "Empty DataFrame\n",
       "Columns: [Opportunity_ID, Stage_x, Stage_y]\n",
       "Index: []"
      ]
     },
     "execution_count": 36,
     "metadata": {},
     "output_type": "execute_result"
    }
   ],
   "source": [
    "etapas_negociadas_y_ganadas = etapas_por_oportunidad_ganadas.merge(etapas_por_oportunidad_negociadas, on = 'Opportunity_ID')\n",
    "etapas_negociadas_y_ganadas"
   ]
  },
  {
   "cell_type": "markdown",
   "metadata": {},
   "source": [
    "# Oportunidades que pasaron por una etapa y resultaron fracasadas"
   ]
  },
  {
   "cell_type": "code",
   "execution_count": 37,
   "metadata": {},
   "outputs": [
    {
     "data": {
      "text/html": [
       "<div>\n",
       "<style scoped>\n",
       "    .dataframe tbody tr th:only-of-type {\n",
       "        vertical-align: middle;\n",
       "    }\n",
       "\n",
       "    .dataframe tbody tr th {\n",
       "        vertical-align: top;\n",
       "    }\n",
       "\n",
       "    .dataframe thead th {\n",
       "        text-align: right;\n",
       "    }\n",
       "</style>\n",
       "<table border=\"1\" class=\"dataframe\">\n",
       "  <thead>\n",
       "    <tr style=\"text-align: right;\">\n",
       "      <th></th>\n",
       "      <th>Opportunity_ID</th>\n",
       "      <th>Stage_x</th>\n",
       "      <th>Stage_y</th>\n",
       "    </tr>\n",
       "  </thead>\n",
       "  <tbody>\n",
       "  </tbody>\n",
       "</table>\n",
       "</div>"
      ],
      "text/plain": [
       "Empty DataFrame\n",
       "Columns: [Opportunity_ID, Stage_x, Stage_y]\n",
       "Index: []"
      ]
     },
     "execution_count": 37,
     "metadata": {},
     "output_type": "execute_result"
    }
   ],
   "source": [
    "etapas_calificadas_y_perdidas = etapas_por_oportunidad_perdidas.merge(etapas_por_oportunidad_calificadas, on = 'Opportunity_ID')\n",
    "etapas_calificadas_y_perdidas"
   ]
  },
  {
   "cell_type": "code",
   "execution_count": 38,
   "metadata": {},
   "outputs": [
    {
     "data": {
      "text/html": [
       "<div>\n",
       "<style scoped>\n",
       "    .dataframe tbody tr th:only-of-type {\n",
       "        vertical-align: middle;\n",
       "    }\n",
       "\n",
       "    .dataframe tbody tr th {\n",
       "        vertical-align: top;\n",
       "    }\n",
       "\n",
       "    .dataframe thead th {\n",
       "        text-align: right;\n",
       "    }\n",
       "</style>\n",
       "<table border=\"1\" class=\"dataframe\">\n",
       "  <thead>\n",
       "    <tr style=\"text-align: right;\">\n",
       "      <th></th>\n",
       "      <th>Opportunity_ID</th>\n",
       "      <th>Stage_x</th>\n",
       "      <th>Stage_y</th>\n",
       "    </tr>\n",
       "  </thead>\n",
       "  <tbody>\n",
       "  </tbody>\n",
       "</table>\n",
       "</div>"
      ],
      "text/plain": [
       "Empty DataFrame\n",
       "Columns: [Opportunity_ID, Stage_x, Stage_y]\n",
       "Index: []"
      ]
     },
     "execution_count": 38,
     "metadata": {},
     "output_type": "execute_result"
    }
   ],
   "source": [
    "etapas_propuestas_y_perdidas = etapas_por_oportunidad_perdidas.merge(etapas_por_oportunidad_propuestas, on = 'Opportunity_ID')\n",
    "etapas_propuestas_y_perdidas"
   ]
  },
  {
   "cell_type": "code",
   "execution_count": 39,
   "metadata": {},
   "outputs": [
    {
     "data": {
      "text/html": [
       "<div>\n",
       "<style scoped>\n",
       "    .dataframe tbody tr th:only-of-type {\n",
       "        vertical-align: middle;\n",
       "    }\n",
       "\n",
       "    .dataframe tbody tr th {\n",
       "        vertical-align: top;\n",
       "    }\n",
       "\n",
       "    .dataframe thead th {\n",
       "        text-align: right;\n",
       "    }\n",
       "</style>\n",
       "<table border=\"1\" class=\"dataframe\">\n",
       "  <thead>\n",
       "    <tr style=\"text-align: right;\">\n",
       "      <th></th>\n",
       "      <th>Opportunity_ID</th>\n",
       "      <th>Stage_x</th>\n",
       "      <th>Stage_y</th>\n",
       "    </tr>\n",
       "  </thead>\n",
       "  <tbody>\n",
       "  </tbody>\n",
       "</table>\n",
       "</div>"
      ],
      "text/plain": [
       "Empty DataFrame\n",
       "Columns: [Opportunity_ID, Stage_x, Stage_y]\n",
       "Index: []"
      ]
     },
     "execution_count": 39,
     "metadata": {},
     "output_type": "execute_result"
    }
   ],
   "source": [
    "etapas_negociadas_y_perdidas = etapas_por_oportunidad_perdidas.merge(etapas_por_oportunidad_negociadas, on = 'Opportunity_ID')\n",
    "etapas_negociadas_y_perdidas"
   ]
  },
  {
   "cell_type": "markdown",
   "metadata": {},
   "source": [
    "# Oportunidades que pasaron por una etapa "
   ]
  },
  {
   "cell_type": "code",
   "execution_count": 40,
   "metadata": {},
   "outputs": [
    {
     "data": {
      "text/html": [
       "<div>\n",
       "<style scoped>\n",
       "    .dataframe tbody tr th:only-of-type {\n",
       "        vertical-align: middle;\n",
       "    }\n",
       "\n",
       "    .dataframe tbody tr th {\n",
       "        vertical-align: top;\n",
       "    }\n",
       "\n",
       "    .dataframe thead th {\n",
       "        text-align: right;\n",
       "    }\n",
       "</style>\n",
       "<table border=\"1\" class=\"dataframe\">\n",
       "  <thead>\n",
       "    <tr style=\"text-align: right;\">\n",
       "      <th></th>\n",
       "      <th>Opportunity_ID</th>\n",
       "      <th>Stage_x</th>\n",
       "      <th>Stage_y</th>\n",
       "    </tr>\n",
       "  </thead>\n",
       "  <tbody>\n",
       "  </tbody>\n",
       "</table>\n",
       "</div>"
      ],
      "text/plain": [
       "Empty DataFrame\n",
       "Columns: [Opportunity_ID, Stage_x, Stage_y]\n",
       "Index: []"
      ]
     },
     "execution_count": 40,
     "metadata": {},
     "output_type": "execute_result"
    }
   ],
   "source": [
    "etapas_calificadas_y_propuestas = etapas_por_oportunidad_propuestas.merge(etapas_por_oportunidad_calificadas, on = 'Opportunity_ID')\n",
    "etapas_calificadas_y_propuestas"
   ]
  },
  {
   "cell_type": "code",
   "execution_count": 41,
   "metadata": {},
   "outputs": [
    {
     "data": {
      "text/html": [
       "<div>\n",
       "<style scoped>\n",
       "    .dataframe tbody tr th:only-of-type {\n",
       "        vertical-align: middle;\n",
       "    }\n",
       "\n",
       "    .dataframe tbody tr th {\n",
       "        vertical-align: top;\n",
       "    }\n",
       "\n",
       "    .dataframe thead th {\n",
       "        text-align: right;\n",
       "    }\n",
       "</style>\n",
       "<table border=\"1\" class=\"dataframe\">\n",
       "  <thead>\n",
       "    <tr style=\"text-align: right;\">\n",
       "      <th></th>\n",
       "      <th>Opportunity_ID</th>\n",
       "      <th>Stage_x</th>\n",
       "      <th>Stage_y</th>\n",
       "    </tr>\n",
       "  </thead>\n",
       "  <tbody>\n",
       "  </tbody>\n",
       "</table>\n",
       "</div>"
      ],
      "text/plain": [
       "Empty DataFrame\n",
       "Columns: [Opportunity_ID, Stage_x, Stage_y]\n",
       "Index: []"
      ]
     },
     "execution_count": 41,
     "metadata": {},
     "output_type": "execute_result"
    }
   ],
   "source": [
    "etapas_propuestas_y_negociadas = etapas_por_oportunidad_propuestas.merge(etapas_por_oportunidad_negociadas, on = 'Opportunity_ID')\n",
    "etapas_propuestas_y_negociadas"
   ]
  },
  {
   "cell_type": "markdown",
   "metadata": {},
   "source": [
    "# Vendedores con etapas cerradas"
   ]
  },
  {
   "cell_type": "code",
   "execution_count": 51,
   "metadata": {},
   "outputs": [],
   "source": [
    "cantidad_oportunidades_por_vendedor = stage['Account_Owner'].value_counts().to_frame()\n",
    "cantidad_oportunidades_por_vendedor = cantidad_oportunidades_por_vendedor.reset_index()\n",
    "cantidad_oportunidades_por_vendedor = cantidad_oportunidades_por_vendedor.rename(columns = {'index' : 'Account_Owner', 'Account_Owner' : 'cant_oportunidades'})"
   ]
  },
  {
   "cell_type": "code",
   "execution_count": 120,
   "metadata": {
    "scrolled": true
   },
   "outputs": [
    {
     "data": {
      "text/html": [
       "<div>\n",
       "<style scoped>\n",
       "    .dataframe tbody tr th:only-of-type {\n",
       "        vertical-align: middle;\n",
       "    }\n",
       "\n",
       "    .dataframe tbody tr th {\n",
       "        vertical-align: top;\n",
       "    }\n",
       "\n",
       "    .dataframe thead th {\n",
       "        text-align: right;\n",
       "    }\n",
       "</style>\n",
       "<table border=\"1\" class=\"dataframe\">\n",
       "  <thead>\n",
       "    <tr style=\"text-align: right;\">\n",
       "      <th></th>\n",
       "      <th>Opportunity_ID</th>\n",
       "      <th>Account_Owner</th>\n",
       "      <th>Account_Created_Date</th>\n",
       "      <th>Stage</th>\n",
       "      <th>cant_oportunidades_x</th>\n",
       "      <th>cant_oportunidades_y</th>\n",
       "    </tr>\n",
       "  </thead>\n",
       "  <tbody>\n",
       "    <tr>\n",
       "      <th>0</th>\n",
       "      <td>0</td>\n",
       "      <td>Person_Name_51</td>\n",
       "      <td>6/16/2015</td>\n",
       "      <td>Closed Lost</td>\n",
       "      <td>108</td>\n",
       "      <td>108</td>\n",
       "    </tr>\n",
       "    <tr>\n",
       "      <th>1</th>\n",
       "      <td>1</td>\n",
       "      <td>Person_Name_51</td>\n",
       "      <td>6/16/2015</td>\n",
       "      <td>Closed Won</td>\n",
       "      <td>108</td>\n",
       "      <td>108</td>\n",
       "    </tr>\n",
       "    <tr>\n",
       "      <th>2</th>\n",
       "      <td>171</td>\n",
       "      <td>Person_Name_51</td>\n",
       "      <td>2/4/2015</td>\n",
       "      <td>Closed Lost</td>\n",
       "      <td>108</td>\n",
       "      <td>108</td>\n",
       "    </tr>\n",
       "    <tr>\n",
       "      <th>3</th>\n",
       "      <td>187</td>\n",
       "      <td>Person_Name_51</td>\n",
       "      <td>6/16/2015</td>\n",
       "      <td>Closed Lost</td>\n",
       "      <td>108</td>\n",
       "      <td>108</td>\n",
       "    </tr>\n",
       "    <tr>\n",
       "      <th>4</th>\n",
       "      <td>188</td>\n",
       "      <td>Person_Name_51</td>\n",
       "      <td>6/16/2015</td>\n",
       "      <td>Closed Won</td>\n",
       "      <td>108</td>\n",
       "      <td>108</td>\n",
       "    </tr>\n",
       "    <tr>\n",
       "      <th>...</th>\n",
       "      <td>...</td>\n",
       "      <td>...</td>\n",
       "      <td>...</td>\n",
       "      <td>...</td>\n",
       "      <td>...</td>\n",
       "      <td>...</td>\n",
       "    </tr>\n",
       "    <tr>\n",
       "      <th>16942</th>\n",
       "      <td>12485</td>\n",
       "      <td>Person_Name_36</td>\n",
       "      <td>6/22/2015</td>\n",
       "      <td>Closed Lost</td>\n",
       "      <td>7</td>\n",
       "      <td>7</td>\n",
       "    </tr>\n",
       "    <tr>\n",
       "      <th>16943</th>\n",
       "      <td>12525</td>\n",
       "      <td>Person_Name_36</td>\n",
       "      <td>8/12/2015</td>\n",
       "      <td>Closed Lost</td>\n",
       "      <td>7</td>\n",
       "      <td>7</td>\n",
       "    </tr>\n",
       "    <tr>\n",
       "      <th>16944</th>\n",
       "      <td>12525</td>\n",
       "      <td>Person_Name_36</td>\n",
       "      <td>8/12/2015</td>\n",
       "      <td>Closed Lost</td>\n",
       "      <td>7</td>\n",
       "      <td>7</td>\n",
       "    </tr>\n",
       "    <tr>\n",
       "      <th>16945</th>\n",
       "      <td>12650</td>\n",
       "      <td>Person_Name_36</td>\n",
       "      <td>9/21/2015</td>\n",
       "      <td>Closed Lost</td>\n",
       "      <td>7</td>\n",
       "      <td>7</td>\n",
       "    </tr>\n",
       "    <tr>\n",
       "      <th>16946</th>\n",
       "      <td>12650</td>\n",
       "      <td>Person_Name_36</td>\n",
       "      <td>9/21/2015</td>\n",
       "      <td>Closed Lost</td>\n",
       "      <td>7</td>\n",
       "      <td>7</td>\n",
       "    </tr>\n",
       "  </tbody>\n",
       "</table>\n",
       "<p>16947 rows × 6 columns</p>\n",
       "</div>"
      ],
      "text/plain": [
       "       Opportunity_ID   Account_Owner Account_Created_Date        Stage  \\\n",
       "0                   0  Person_Name_51            6/16/2015  Closed Lost   \n",
       "1                   1  Person_Name_51            6/16/2015   Closed Won   \n",
       "2                 171  Person_Name_51             2/4/2015  Closed Lost   \n",
       "3                 187  Person_Name_51            6/16/2015  Closed Lost   \n",
       "4                 188  Person_Name_51            6/16/2015   Closed Won   \n",
       "...               ...             ...                  ...          ...   \n",
       "16942           12485  Person_Name_36            6/22/2015  Closed Lost   \n",
       "16943           12525  Person_Name_36            8/12/2015  Closed Lost   \n",
       "16944           12525  Person_Name_36            8/12/2015  Closed Lost   \n",
       "16945           12650  Person_Name_36            9/21/2015  Closed Lost   \n",
       "16946           12650  Person_Name_36            9/21/2015  Closed Lost   \n",
       "\n",
       "       cant_oportunidades_x  cant_oportunidades_y  \n",
       "0                       108                   108  \n",
       "1                       108                   108  \n",
       "2                       108                   108  \n",
       "3                       108                   108  \n",
       "4                       108                   108  \n",
       "...                     ...                   ...  \n",
       "16942                     7                     7  \n",
       "16943                     7                     7  \n",
       "16944                     7                     7  \n",
       "16945                     7                     7  \n",
       "16946                     7                     7  \n",
       "\n",
       "[16947 rows x 6 columns]"
      ]
     },
     "execution_count": 120,
     "metadata": {},
     "output_type": "execute_result"
    }
   ],
   "source": [
    "stage = stage.merge(cantidad_oportunidades_por_vendedor, on = 'Account_Owner')\n",
    "stage"
   ]
  },
  {
   "cell_type": "code",
   "execution_count": 122,
   "metadata": {},
   "outputs": [
    {
     "data": {
      "text/html": [
       "<div>\n",
       "<style scoped>\n",
       "    .dataframe tbody tr th:only-of-type {\n",
       "        vertical-align: middle;\n",
       "    }\n",
       "\n",
       "    .dataframe tbody tr th {\n",
       "        vertical-align: top;\n",
       "    }\n",
       "\n",
       "    .dataframe thead th {\n",
       "        text-align: right;\n",
       "    }\n",
       "</style>\n",
       "<table border=\"1\" class=\"dataframe\">\n",
       "  <thead>\n",
       "    <tr style=\"text-align: right;\">\n",
       "      <th></th>\n",
       "      <th>Opportunity_ID</th>\n",
       "      <th>Account_Owner</th>\n",
       "      <th>Account_Created_Date</th>\n",
       "      <th>Stage</th>\n",
       "      <th>cant_oportunidades_x</th>\n",
       "      <th>cant_oportunidades_y</th>\n",
       "    </tr>\n",
       "  </thead>\n",
       "  <tbody>\n",
       "    <tr>\n",
       "      <th>0</th>\n",
       "      <td>0</td>\n",
       "      <td>Person_Name_51</td>\n",
       "      <td>6/16/2015</td>\n",
       "      <td>Closed Lost</td>\n",
       "      <td>108</td>\n",
       "      <td>108</td>\n",
       "    </tr>\n",
       "    <tr>\n",
       "      <th>1</th>\n",
       "      <td>1</td>\n",
       "      <td>Person_Name_51</td>\n",
       "      <td>6/16/2015</td>\n",
       "      <td>Closed Won</td>\n",
       "      <td>108</td>\n",
       "      <td>108</td>\n",
       "    </tr>\n",
       "    <tr>\n",
       "      <th>2</th>\n",
       "      <td>171</td>\n",
       "      <td>Person_Name_51</td>\n",
       "      <td>2/4/2015</td>\n",
       "      <td>Closed Lost</td>\n",
       "      <td>108</td>\n",
       "      <td>108</td>\n",
       "    </tr>\n",
       "    <tr>\n",
       "      <th>3</th>\n",
       "      <td>187</td>\n",
       "      <td>Person_Name_51</td>\n",
       "      <td>6/16/2015</td>\n",
       "      <td>Closed Lost</td>\n",
       "      <td>108</td>\n",
       "      <td>108</td>\n",
       "    </tr>\n",
       "    <tr>\n",
       "      <th>4</th>\n",
       "      <td>188</td>\n",
       "      <td>Person_Name_51</td>\n",
       "      <td>6/16/2015</td>\n",
       "      <td>Closed Won</td>\n",
       "      <td>108</td>\n",
       "      <td>108</td>\n",
       "    </tr>\n",
       "    <tr>\n",
       "      <th>...</th>\n",
       "      <td>...</td>\n",
       "      <td>...</td>\n",
       "      <td>...</td>\n",
       "      <td>...</td>\n",
       "      <td>...</td>\n",
       "      <td>...</td>\n",
       "    </tr>\n",
       "    <tr>\n",
       "      <th>16942</th>\n",
       "      <td>12485</td>\n",
       "      <td>Person_Name_36</td>\n",
       "      <td>6/22/2015</td>\n",
       "      <td>Closed Lost</td>\n",
       "      <td>7</td>\n",
       "      <td>7</td>\n",
       "    </tr>\n",
       "    <tr>\n",
       "      <th>16943</th>\n",
       "      <td>12525</td>\n",
       "      <td>Person_Name_36</td>\n",
       "      <td>8/12/2015</td>\n",
       "      <td>Closed Lost</td>\n",
       "      <td>7</td>\n",
       "      <td>7</td>\n",
       "    </tr>\n",
       "    <tr>\n",
       "      <th>16944</th>\n",
       "      <td>12525</td>\n",
       "      <td>Person_Name_36</td>\n",
       "      <td>8/12/2015</td>\n",
       "      <td>Closed Lost</td>\n",
       "      <td>7</td>\n",
       "      <td>7</td>\n",
       "    </tr>\n",
       "    <tr>\n",
       "      <th>16945</th>\n",
       "      <td>12650</td>\n",
       "      <td>Person_Name_36</td>\n",
       "      <td>9/21/2015</td>\n",
       "      <td>Closed Lost</td>\n",
       "      <td>7</td>\n",
       "      <td>7</td>\n",
       "    </tr>\n",
       "    <tr>\n",
       "      <th>16946</th>\n",
       "      <td>12650</td>\n",
       "      <td>Person_Name_36</td>\n",
       "      <td>9/21/2015</td>\n",
       "      <td>Closed Lost</td>\n",
       "      <td>7</td>\n",
       "      <td>7</td>\n",
       "    </tr>\n",
       "  </tbody>\n",
       "</table>\n",
       "<p>16883 rows × 6 columns</p>\n",
       "</div>"
      ],
      "text/plain": [
       "       Opportunity_ID   Account_Owner Account_Created_Date        Stage  \\\n",
       "0                   0  Person_Name_51            6/16/2015  Closed Lost   \n",
       "1                   1  Person_Name_51            6/16/2015   Closed Won   \n",
       "2                 171  Person_Name_51             2/4/2015  Closed Lost   \n",
       "3                 187  Person_Name_51            6/16/2015  Closed Lost   \n",
       "4                 188  Person_Name_51            6/16/2015   Closed Won   \n",
       "...               ...             ...                  ...          ...   \n",
       "16942           12485  Person_Name_36            6/22/2015  Closed Lost   \n",
       "16943           12525  Person_Name_36            8/12/2015  Closed Lost   \n",
       "16944           12525  Person_Name_36            8/12/2015  Closed Lost   \n",
       "16945           12650  Person_Name_36            9/21/2015  Closed Lost   \n",
       "16946           12650  Person_Name_36            9/21/2015  Closed Lost   \n",
       "\n",
       "       cant_oportunidades_x  cant_oportunidades_y  \n",
       "0                       108                   108  \n",
       "1                       108                   108  \n",
       "2                       108                   108  \n",
       "3                       108                   108  \n",
       "4                       108                   108  \n",
       "...                     ...                   ...  \n",
       "16942                     7                     7  \n",
       "16943                     7                     7  \n",
       "16944                     7                     7  \n",
       "16945                     7                     7  \n",
       "16946                     7                     7  \n",
       "\n",
       "[16883 rows x 6 columns]"
      ]
     },
     "execution_count": 122,
     "metadata": {},
     "output_type": "execute_result"
    }
   ],
   "source": [
    "oportunidades_cerradas = stage.loc[stage['Stage'] != 'Qualification']\n",
    "oportunidades_cerradas = oportunidades_cerradas.loc[stage['Stage'] != 'Proposal']\n",
    "oportunidades_cerradas = oportunidades_cerradas.loc[stage['Stage'] != 'Negotiation']\n",
    "oportunidades_cerradas"
   ]
  },
  {
   "cell_type": "code",
   "execution_count": 125,
   "metadata": {},
   "outputs": [
    {
     "data": {
      "text/plain": [
       "Text(0, 0.5, 'Cantidad de oportunidades')"
      ]
     },
     "execution_count": 125,
     "metadata": {},
     "output_type": "execute_result"
    },
    {
     "data": {
      "image/png": "[encoded data removed]",
      "text/plain": [
       "<Figure size 5760x1440 with 1 Axes>"
      ]
     },
     "metadata": {},
     "output_type": "display_data"
    }
   ],
   "source": [
    "\"NO ES FINAL, HABRÁ QUE BUSCAR UN MEJOR FORMATO PARA MOSTRAR ESTOS DATOS\"\n",
    "sns.set(style=\"whitegrid\")\n",
    "plt.rcParams['figure.figsize'] = (80, 20)\n",
    "\n",
    "g = sns.countplot(x=\"Account_Owner\", hue=\"Stage\", data=oportunidades_cerradas, palette=\"hls\")\n",
    "g.set_title(\"Cantidad de Oportunidades según el vendedor\", fontsize=20)\n",
    "g.set_xlabel(\"Vendedor\", fontsize=15)\n",
    "g.set_ylabel(\"Cantidad de oportunidades\", fontsize=15)"
   ]
  },
  {
   "cell_type": "markdown",
   "metadata": {},
   "source": [
    "# Vendedores con etapas no cerradas"
   ]
  },
  {
   "cell_type": "code",
   "execution_count": 85,
   "metadata": {},
   "outputs": [
    {
     "data": {
      "text/html": [
       "<div>\n",
       "<style scoped>\n",
       "    .dataframe tbody tr th:only-of-type {\n",
       "        vertical-align: middle;\n",
       "    }\n",
       "\n",
       "    .dataframe tbody tr th {\n",
       "        vertical-align: top;\n",
       "    }\n",
       "\n",
       "    .dataframe thead th {\n",
       "        text-align: right;\n",
       "    }\n",
       "</style>\n",
       "<table border=\"1\" class=\"dataframe\">\n",
       "  <thead>\n",
       "    <tr style=\"text-align: right;\">\n",
       "      <th></th>\n",
       "      <th>Opportunity_ID</th>\n",
       "      <th>Account_Owner</th>\n",
       "      <th>Account_Created_Date</th>\n",
       "      <th>Stage</th>\n",
       "      <th>cant_oportunidades</th>\n",
       "    </tr>\n",
       "  </thead>\n",
       "  <tbody>\n",
       "    <tr>\n",
       "      <th>646</th>\n",
       "      <td>11159</td>\n",
       "      <td>Person_Name_64</td>\n",
       "      <td>3/17/2017</td>\n",
       "      <td>Negotiation</td>\n",
       "      <td>577</td>\n",
       "    </tr>\n",
       "    <tr>\n",
       "      <th>647</th>\n",
       "      <td>11159</td>\n",
       "      <td>Person_Name_64</td>\n",
       "      <td>3/17/2017</td>\n",
       "      <td>Negotiation</td>\n",
       "      <td>577</td>\n",
       "    </tr>\n",
       "    <tr>\n",
       "      <th>648</th>\n",
       "      <td>11162</td>\n",
       "      <td>Person_Name_64</td>\n",
       "      <td>3/17/2017</td>\n",
       "      <td>Negotiation</td>\n",
       "      <td>577</td>\n",
       "    </tr>\n",
       "    <tr>\n",
       "      <th>649</th>\n",
       "      <td>11162</td>\n",
       "      <td>Person_Name_64</td>\n",
       "      <td>3/17/2017</td>\n",
       "      <td>Negotiation</td>\n",
       "      <td>577</td>\n",
       "    </tr>\n",
       "    <tr>\n",
       "      <th>650</th>\n",
       "      <td>11163</td>\n",
       "      <td>Person_Name_64</td>\n",
       "      <td>3/17/2017</td>\n",
       "      <td>Negotiation</td>\n",
       "      <td>577</td>\n",
       "    </tr>\n",
       "    <tr>\n",
       "      <th>...</th>\n",
       "      <td>...</td>\n",
       "      <td>...</td>\n",
       "      <td>...</td>\n",
       "      <td>...</td>\n",
       "      <td>...</td>\n",
       "    </tr>\n",
       "    <tr>\n",
       "      <th>16700</th>\n",
       "      <td>10391</td>\n",
       "      <td>Person_Name_55</td>\n",
       "      <td>11/29/2018</td>\n",
       "      <td>Proposal</td>\n",
       "      <td>138</td>\n",
       "    </tr>\n",
       "    <tr>\n",
       "      <th>16702</th>\n",
       "      <td>11178</td>\n",
       "      <td>Person_Name_55</td>\n",
       "      <td>7/3/2015</td>\n",
       "      <td>Proposal</td>\n",
       "      <td>138</td>\n",
       "    </tr>\n",
       "    <tr>\n",
       "      <th>16820</th>\n",
       "      <td>9232</td>\n",
       "      <td>Person_Name_63</td>\n",
       "      <td>11/17/2016</td>\n",
       "      <td>Proposal</td>\n",
       "      <td>138</td>\n",
       "    </tr>\n",
       "    <tr>\n",
       "      <th>16828</th>\n",
       "      <td>10640</td>\n",
       "      <td>Person_Name_63</td>\n",
       "      <td>11/17/2016</td>\n",
       "      <td>Proposal</td>\n",
       "      <td>138</td>\n",
       "    </tr>\n",
       "    <tr>\n",
       "      <th>16830</th>\n",
       "      <td>11183</td>\n",
       "      <td>Person_Name_63</td>\n",
       "      <td>12/21/2018</td>\n",
       "      <td>Proposal</td>\n",
       "      <td>138</td>\n",
       "    </tr>\n",
       "  </tbody>\n",
       "</table>\n",
       "<p>64 rows × 5 columns</p>\n",
       "</div>"
      ],
      "text/plain": [
       "       Opportunity_ID   Account_Owner Account_Created_Date        Stage  \\\n",
       "646             11159  Person_Name_64            3/17/2017  Negotiation   \n",
       "647             11159  Person_Name_64            3/17/2017  Negotiation   \n",
       "648             11162  Person_Name_64            3/17/2017  Negotiation   \n",
       "649             11162  Person_Name_64            3/17/2017  Negotiation   \n",
       "650             11163  Person_Name_64            3/17/2017  Negotiation   \n",
       "...               ...             ...                  ...          ...   \n",
       "16700           10391  Person_Name_55           11/29/2018     Proposal   \n",
       "16702           11178  Person_Name_55             7/3/2015     Proposal   \n",
       "16820            9232  Person_Name_63           11/17/2016     Proposal   \n",
       "16828           10640  Person_Name_63           11/17/2016     Proposal   \n",
       "16830           11183  Person_Name_63           12/21/2018     Proposal   \n",
       "\n",
       "       cant_oportunidades  \n",
       "646                   577  \n",
       "647                   577  \n",
       "648                   577  \n",
       "649                   577  \n",
       "650                   577  \n",
       "...                   ...  \n",
       "16700                 138  \n",
       "16702                 138  \n",
       "16820                 138  \n",
       "16828                 138  \n",
       "16830                 138  \n",
       "\n",
       "[64 rows x 5 columns]"
      ]
     },
     "execution_count": 85,
     "metadata": {},
     "output_type": "execute_result"
    }
   ],
   "source": [
    "etapas_no_cerradas = stage.loc[stage['Stage'] != 'Closed Won']\n",
    "etapas_no_cerradas = etapas_no_cerradas.loc[stage['Stage'] != 'Closed Lost']\n",
    "etapas_no_cerradas"
   ]
  },
  {
   "cell_type": "code",
   "execution_count": 109,
   "metadata": {},
   "outputs": [
    {
     "data": {
      "text/plain": [
       "Text(0, 0.5, 'Cantidad de oportunidades')"
      ]
     },
     "execution_count": 109,
     "metadata": {},
     "output_type": "execute_result"
    },
    {
     "data": {
      "image/png": "[encoded data removed]",
      "text/plain": [
       "<Figure size 2160x720 with 1 Axes>"
      ]
     },
     "metadata": {},
     "output_type": "display_data"
    }
   ],
   "source": [
    "\"Agrego estas lineas para setear lineas y tamaño del plot\"\n",
    "sns.set(style=\"whitegrid\")\n",
    "plt.rcParams['figure.figsize'] = (30, 10)\n",
    "\n",
    "g = sns.countplot(x=\"Account_Owner\", hue=\"Stage\", data=etapas_no_cerradas, palette=\"hls\")\n",
    "g.set_title(\"Cantidad de Oportunidades no cerradas según el vendedor\", fontsize=20)\n",
    "g.set_xlabel(\"Vendedor\", fontsize=15)\n",
    "g.set_ylabel(\"Cantidad de oportunidades\", fontsize=15)"
   ]
  },
  {
   "cell_type": "code",
   "execution_count": null,
   "metadata": {},
   "outputs": [],
   "source": []
  }
 ],
 "metadata": {
  "kernelspec": {
   "display_name": "Python 3",
   "language": "python",
   "name": "python3"
  },
  "language_info": {
   "codemirror_mode": {
    "name": "ipython",
    "version": 3
   },
   "file_extension": ".py",
   "mimetype": "text/x-python",
   "name": "python",
   "nbconvert_exporter": "python",
   "pygments_lexer": "ipython3",
   "version": "3.8.3"
  }
 },
 "nbformat": 4,
 "nbformat_minor": 4
}
